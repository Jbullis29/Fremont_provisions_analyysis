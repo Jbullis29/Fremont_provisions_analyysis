{
 "cells": [
  {
   "cell_type": "code",
   "execution_count": 1,
   "metadata": {},
   "outputs": [],
   "source": [
    "#import dependencies\n",
    "import pandas as pd\n",
    "import numpy as np\n",
    "from datetime import date\n",
    "import pymongo"
   ]
  },
  {
   "cell_type": "code",
   "execution_count": 2,
   "metadata": {},
   "outputs": [],
   "source": [
    "#connect to mongo locally\n",
    "conn = 'mongodb://localhost:27017'\n",
    "client = pymongo.MongoClient(conn)\n",
    "#database to store Reviews\n",
    "db = client.fp_reviews_db\n",
    "collection = db.reviews\n",
    "#second database to store daily averages\n",
    "db2 = client.fp_averages\n",
    "collection2 = db2.daily_averages"
   ]
  },
  {
   "cell_type": "code",
   "execution_count": 3,
   "metadata": {},
   "outputs": [
    {
     "name": "stdout",
     "output_type": "stream",
     "text": [
      "please input date reviews are from as mm_dd_yyyy: 06_20_2021\n"
     ]
    }
   ],
   "source": [
    "#user input date to corrospond with date values were input\n",
    "date = input('please input date reviews are from as mm_dd_yyyy: ')"
   ]
  },
  {
   "cell_type": "code",
   "execution_count": 4,
   "metadata": {},
   "outputs": [],
   "source": [
    "#reassign column name for when csv is read into the notebook\n",
    "columns = ['rating','service', 'food_quality', 'environment', 'experience', 'menu_options', 'blank', 'blank2', \n",
    "           'yes_reccomend', 'no_reccomend', 'ticket_IS_expected', 'no_ticket_lower',\n",
    "          'no_ticket_higher', 'priceless']\n",
    "data = pd.read_csv(f'data/fp_{date}.csv', skiprows=1, names = columns)"
   ]
  },
  {
   "cell_type": "code",
   "execution_count": 5,
   "metadata": {},
   "outputs": [],
   "source": [
    "# because of how the csv is set up theres a lot of NaN's. Replaced them with zeros for ease of use\n",
    "data.fillna(0,inplace=True)"
   ]
  },
  {
   "cell_type": "code",
   "execution_count": 6,
   "metadata": {},
   "outputs": [],
   "source": [
    "#create  new data df the doesnt have o in the rating because theres no zeros for ratings \n",
    "data=data[data['rating']!=0]"
   ]
  },
  {
   "cell_type": "code",
   "execution_count": 7,
   "metadata": {},
   "outputs": [],
   "source": [
    "#drop the two blank columns imported from the CSV\n",
    "df = data.drop(['blank','blank2'], axis=1)"
   ]
  },
  {
   "cell_type": "code",
   "execution_count": 8,
   "metadata": {},
   "outputs": [],
   "source": [
    "#create new colum titles again for cleaner DF\n",
    "columns = ['rating','service', 'food_quality', 'environment', 'experience', 'menu_options',\n",
    "           'yes_reccomend', 'no_reccomend', 'ticket_IS_expected', 'no_ticket_lower',\n",
    "          'no_ticket_higher', 'priceless']\n",
    "df_new=df[columns].astype(int)"
   ]
  },
  {
   "cell_type": "code",
   "execution_count": 9,
   "metadata": {},
   "outputs": [
    {
     "data": {
      "text/html": [
       "<div>\n",
       "<style scoped>\n",
       "    .dataframe tbody tr th:only-of-type {\n",
       "        vertical-align: middle;\n",
       "    }\n",
       "\n",
       "    .dataframe tbody tr th {\n",
       "        vertical-align: top;\n",
       "    }\n",
       "\n",
       "    .dataframe thead th {\n",
       "        text-align: right;\n",
       "    }\n",
       "</style>\n",
       "<table border=\"1\" class=\"dataframe\">\n",
       "  <thead>\n",
       "    <tr style=\"text-align: right;\">\n",
       "      <th></th>\n",
       "      <th>rating</th>\n",
       "      <th>service</th>\n",
       "      <th>food_quality</th>\n",
       "      <th>environment</th>\n",
       "      <th>experience</th>\n",
       "      <th>menu_options</th>\n",
       "      <th>yes_reccomend</th>\n",
       "      <th>no_reccomend</th>\n",
       "      <th>ticket_IS_expected</th>\n",
       "      <th>no_ticket_lower</th>\n",
       "      <th>no_ticket_higher</th>\n",
       "      <th>priceless</th>\n",
       "    </tr>\n",
       "  </thead>\n",
       "  <tbody>\n",
       "    <tr>\n",
       "      <th>0</th>\n",
       "      <td>1</td>\n",
       "      <td>0</td>\n",
       "      <td>0</td>\n",
       "      <td>0</td>\n",
       "      <td>0</td>\n",
       "      <td>0</td>\n",
       "      <td>0</td>\n",
       "      <td>0</td>\n",
       "      <td>0</td>\n",
       "      <td>0</td>\n",
       "      <td>0</td>\n",
       "      <td>0</td>\n",
       "    </tr>\n",
       "    <tr>\n",
       "      <th>1</th>\n",
       "      <td>2</td>\n",
       "      <td>0</td>\n",
       "      <td>0</td>\n",
       "      <td>0</td>\n",
       "      <td>0</td>\n",
       "      <td>0</td>\n",
       "      <td>0</td>\n",
       "      <td>0</td>\n",
       "      <td>0</td>\n",
       "      <td>0</td>\n",
       "      <td>0</td>\n",
       "      <td>0</td>\n",
       "    </tr>\n",
       "    <tr>\n",
       "      <th>2</th>\n",
       "      <td>3</td>\n",
       "      <td>0</td>\n",
       "      <td>0</td>\n",
       "      <td>0</td>\n",
       "      <td>0</td>\n",
       "      <td>0</td>\n",
       "      <td>0</td>\n",
       "      <td>0</td>\n",
       "      <td>0</td>\n",
       "      <td>0</td>\n",
       "      <td>0</td>\n",
       "      <td>0</td>\n",
       "    </tr>\n",
       "    <tr>\n",
       "      <th>3</th>\n",
       "      <td>4</td>\n",
       "      <td>0</td>\n",
       "      <td>0</td>\n",
       "      <td>0</td>\n",
       "      <td>0</td>\n",
       "      <td>0</td>\n",
       "      <td>0</td>\n",
       "      <td>0</td>\n",
       "      <td>0</td>\n",
       "      <td>0</td>\n",
       "      <td>0</td>\n",
       "      <td>0</td>\n",
       "    </tr>\n",
       "    <tr>\n",
       "      <th>4</th>\n",
       "      <td>5</td>\n",
       "      <td>1</td>\n",
       "      <td>1</td>\n",
       "      <td>1</td>\n",
       "      <td>1</td>\n",
       "      <td>1</td>\n",
       "      <td>1</td>\n",
       "      <td>0</td>\n",
       "      <td>1</td>\n",
       "      <td>0</td>\n",
       "      <td>0</td>\n",
       "      <td>0</td>\n",
       "    </tr>\n",
       "    <tr>\n",
       "      <th>...</th>\n",
       "      <td>...</td>\n",
       "      <td>...</td>\n",
       "      <td>...</td>\n",
       "      <td>...</td>\n",
       "      <td>...</td>\n",
       "      <td>...</td>\n",
       "      <td>...</td>\n",
       "      <td>...</td>\n",
       "      <td>...</td>\n",
       "      <td>...</td>\n",
       "      <td>...</td>\n",
       "      <td>...</td>\n",
       "    </tr>\n",
       "    <tr>\n",
       "      <th>438</th>\n",
       "      <td>1</td>\n",
       "      <td>0</td>\n",
       "      <td>0</td>\n",
       "      <td>0</td>\n",
       "      <td>0</td>\n",
       "      <td>0</td>\n",
       "      <td>0</td>\n",
       "      <td>0</td>\n",
       "      <td>0</td>\n",
       "      <td>0</td>\n",
       "      <td>0</td>\n",
       "      <td>0</td>\n",
       "    </tr>\n",
       "    <tr>\n",
       "      <th>439</th>\n",
       "      <td>2</td>\n",
       "      <td>0</td>\n",
       "      <td>0</td>\n",
       "      <td>0</td>\n",
       "      <td>0</td>\n",
       "      <td>0</td>\n",
       "      <td>0</td>\n",
       "      <td>0</td>\n",
       "      <td>0</td>\n",
       "      <td>0</td>\n",
       "      <td>0</td>\n",
       "      <td>0</td>\n",
       "    </tr>\n",
       "    <tr>\n",
       "      <th>440</th>\n",
       "      <td>3</td>\n",
       "      <td>0</td>\n",
       "      <td>0</td>\n",
       "      <td>0</td>\n",
       "      <td>0</td>\n",
       "      <td>0</td>\n",
       "      <td>0</td>\n",
       "      <td>0</td>\n",
       "      <td>0</td>\n",
       "      <td>0</td>\n",
       "      <td>0</td>\n",
       "      <td>0</td>\n",
       "    </tr>\n",
       "    <tr>\n",
       "      <th>441</th>\n",
       "      <td>4</td>\n",
       "      <td>0</td>\n",
       "      <td>0</td>\n",
       "      <td>0</td>\n",
       "      <td>0</td>\n",
       "      <td>0</td>\n",
       "      <td>0</td>\n",
       "      <td>0</td>\n",
       "      <td>0</td>\n",
       "      <td>0</td>\n",
       "      <td>0</td>\n",
       "      <td>0</td>\n",
       "    </tr>\n",
       "    <tr>\n",
       "      <th>442</th>\n",
       "      <td>5</td>\n",
       "      <td>0</td>\n",
       "      <td>0</td>\n",
       "      <td>0</td>\n",
       "      <td>0</td>\n",
       "      <td>0</td>\n",
       "      <td>0</td>\n",
       "      <td>0</td>\n",
       "      <td>0</td>\n",
       "      <td>0</td>\n",
       "      <td>0</td>\n",
       "      <td>0</td>\n",
       "    </tr>\n",
       "  </tbody>\n",
       "</table>\n",
       "<p>370 rows × 12 columns</p>\n",
       "</div>"
      ],
      "text/plain": [
       "     rating  service  food_quality  environment  experience  menu_options  \\\n",
       "0         1        0             0            0           0             0   \n",
       "1         2        0             0            0           0             0   \n",
       "2         3        0             0            0           0             0   \n",
       "3         4        0             0            0           0             0   \n",
       "4         5        1             1            1           1             1   \n",
       "..      ...      ...           ...          ...         ...           ...   \n",
       "438       1        0             0            0           0             0   \n",
       "439       2        0             0            0           0             0   \n",
       "440       3        0             0            0           0             0   \n",
       "441       4        0             0            0           0             0   \n",
       "442       5        0             0            0           0             0   \n",
       "\n",
       "     yes_reccomend  no_reccomend  ticket_IS_expected  no_ticket_lower  \\\n",
       "0                0             0                   0                0   \n",
       "1                0             0                   0                0   \n",
       "2                0             0                   0                0   \n",
       "3                0             0                   0                0   \n",
       "4                1             0                   1                0   \n",
       "..             ...           ...                 ...              ...   \n",
       "438              0             0                   0                0   \n",
       "439              0             0                   0                0   \n",
       "440              0             0                   0                0   \n",
       "441              0             0                   0                0   \n",
       "442              0             0                   0                0   \n",
       "\n",
       "     no_ticket_higher  priceless  \n",
       "0                   0          0  \n",
       "1                   0          0  \n",
       "2                   0          0  \n",
       "3                   0          0  \n",
       "4                   0          0  \n",
       "..                ...        ...  \n",
       "438                 0          0  \n",
       "439                 0          0  \n",
       "440                 0          0  \n",
       "441                 0          0  \n",
       "442                 0          0  \n",
       "\n",
       "[370 rows x 12 columns]"
      ]
     },
     "execution_count": 9,
     "metadata": {},
     "output_type": "execute_result"
    }
   ],
   "source": [
    "df_new"
   ]
  },
  {
   "cell_type": "code",
   "execution_count": 10,
   "metadata": {},
   "outputs": [],
   "source": [
    "#created a dict to store my apended lists from the if statments below\n",
    "ratings_dict={'date':[],'service':[],'food_quality':[],'environment':[],'experience':[],'menu_options':[], 'reccomend':[],\n",
    "              'price_point':[], 'comments':[]}\n",
    "#itterated through row and used a bunch of if statements to match the rating with the value from the column\n",
    "#quite proud of how well this works\n",
    "for i , j in df_new.iterrows():\n",
    "\n",
    "    if j['rating'] == 5 and j['service'] == 1:\n",
    "        ratings_dict['service'].append(5)\n",
    "    if j['rating']==4 and j['service']== 1:\n",
    "        ratings_dict['service'].append(4)\n",
    "    if j['rating'] == 3 and j['service'] == 1:\n",
    "        ratings_dict['service'].append(3)\n",
    "    if j['rating'] == 2 and j['service'] == 1:\n",
    "        ratings_dict['service'].append(2)\n",
    "    if j['rating'] == 1 and j['service'] == 1:\n",
    "        ratings_dict['service'].append(1)\n"
   ]
  },
  {
   "cell_type": "code",
   "execution_count": 11,
   "metadata": {},
   "outputs": [],
   "source": [
    "for i , j in df_new.iterrows():\n",
    "    \n",
    "    if j['rating'] == 5 and j['food_quality'] == 1:\n",
    "        ratings_dict['food_quality'].append(5)\n",
    "    if j['rating'] == 4 and j['food_quality'] == 1:\n",
    "        ratings_dict['food_quality'].append(4)\n",
    "    if j['rating'] == 3 and j['food_quality'] == 1:\n",
    "        ratings_dict['food_quality'].append(3)\n",
    "    if j['rating'] == 2 and j['food_quality'] == 1:\n",
    "        ratings_dict['food_quality'].append(2)\n",
    "    if j['rating'] == 1 and j['food_quality'] == 1:\n",
    "        ratings_dict['food_quality'].append(1)"
   ]
  },
  {
   "cell_type": "code",
   "execution_count": 12,
   "metadata": {},
   "outputs": [],
   "source": [
    "for i , j in df_new.iterrows():\n",
    "    \n",
    "    if j['rating'] == 5 and j['environment'] == 1:\n",
    "        ratings_dict['environment'].append(5)\n",
    "    if j['rating'] == 4 and j['environment'] == 1:\n",
    "        ratings_dict['environment'].append(4)\n",
    "    if j['rating'] == 3 and j['environment'] == 1:\n",
    "        ratings_dict['environment'].append(3)\n",
    "    if j['rating'] == 2 and j['environment'] == 1:\n",
    "        ratings_dict['environment'].append(2)\n",
    "    if j['rating'] == 1 and j['environment'] == 1:\n",
    "        ratings_dict['environment'].append(1)\n"
   ]
  },
  {
   "cell_type": "code",
   "execution_count": 13,
   "metadata": {},
   "outputs": [],
   "source": [
    "for i , j in df_new.iterrows():\n",
    "    \n",
    "    if j['rating'] == 5 and j['experience'] == 1:\n",
    "        ratings_dict['experience'].append(5)\n",
    "    if j['rating'] == 4 and j['experience'] == 1:\n",
    "        ratings_dict['experience'].append(4)\n",
    "    if j['rating'] == 3 and j['experience'] == 1:\n",
    "        ratings_dict['experience'].append(3)\n",
    "    if j['rating'] == 2 and j['experience'] == 1:\n",
    "        ratings_dict['experience'].append(2)\n",
    "    if j['rating'] == 1 and j['experience'] == 1:\n",
    "        ratings_dict['experience'].append(1)\n"
   ]
  },
  {
   "cell_type": "code",
   "execution_count": 14,
   "metadata": {},
   "outputs": [],
   "source": [
    "for i , j in df_new.iterrows():\n",
    "    \n",
    "    if j['rating'] == 5 and j['menu_options'] == 1:\n",
    "        ratings_dict['menu_options'].append(5)\n",
    "    if j['rating'] == 4 and j['menu_options'] == 1:\n",
    "        ratings_dict['menu_options'].append(4)\n",
    "    if j['rating'] == 3 and j['menu_options'] == 1:\n",
    "        ratings_dict['menu_options'].append(3)\n",
    "    if j['rating'] == 2 and j['menu_options'] == 1:\n",
    "        ratings_dict['menu_options'].append(2)\n",
    "    if j['rating'] == 1 and j['menu_options'] == 1:\n",
    "        ratings_dict['menu_options'].append(1)\n"
   ]
  },
  {
   "cell_type": "code",
   "execution_count": 15,
   "metadata": {},
   "outputs": [],
   "source": [
    "for i , j in df_new.iterrows():\n",
    "    \n",
    "    if j['rating'] == 5 and j['yes_reccomend'] == 1:\n",
    "        ratings_dict['reccomend'].append('y')\n",
    "    if j['rating'] == 5 and j['no_reccomend'] == 1:\n",
    "        ratings_dict['reccomend'].append('n')\n"
   ]
  },
  {
   "cell_type": "code",
   "execution_count": 16,
   "metadata": {},
   "outputs": [],
   "source": [
    "for i , j in df_new.iterrows():\n",
    "    \n",
    "    if j['rating'] == 5 and j['ticket_IS_expected'] == 1:\n",
    "        ratings_dict['price_point'].append('Ticket Matched Expected Price')\n",
    "    if j['rating'] == 5 and j['no_ticket_lower'] == 1:\n",
    "        ratings_dict['price_point'].append('Ticket price was lower than expected')\n",
    "    if j['rating'] == 5 and j['no_ticket_higher'] == 1:\n",
    "        ratings_dict['price_point'].append('Ticket price was more than expected')\n",
    "    if j['rating'] == 5 and j['priceless'] == 1:\n",
    "        ratings_dict['price_point'].append('Price was not marked on ticket')\n"
   ]
  },
  {
   "cell_type": "code",
   "execution_count": 17,
   "metadata": {},
   "outputs": [],
   "source": [
    "#added a new column with the date for lat querying\n",
    "for x in range(len(ratings_dict['service'])):\n",
    "    ratings_dict['date'].append(date)"
   ]
  },
  {
   "cell_type": "code",
   "execution_count": 18,
   "metadata": {},
   "outputs": [
    {
     "data": {
      "text/plain": [
       "{'date': ['06_20_2021',\n",
       "  '06_20_2021',\n",
       "  '06_20_2021',\n",
       "  '06_20_2021',\n",
       "  '06_20_2021'],\n",
       " 'service': [5, 5, 5, 5, 5],\n",
       " 'food_quality': [5, 5, 4, 2, 5],\n",
       " 'environment': [5, 5, 5, 4, 5],\n",
       " 'experience': [5, 5, 4, 3, 5],\n",
       " 'menu_options': [5, 5, 3, 5],\n",
       " 'reccomend': ['y', 'y', 'y'],\n",
       " 'price_point': ['Ticket Matched Expected Price',\n",
       "  'Price was not marked on ticket',\n",
       "  'Price was not marked on ticket',\n",
       "  'Ticket Matched Expected Price',\n",
       "  'Price was not marked on ticket'],\n",
       " 'comments': []}"
      ]
     },
     "execution_count": 18,
     "metadata": {},
     "output_type": "execute_result"
    }
   ],
   "source": [
    "ratings_dict"
   ]
  },
  {
   "cell_type": "code",
   "execution_count": 19,
   "metadata": {},
   "outputs": [],
   "source": [
    "#read in comments CSV to add to DF to create a master csv with comments\n",
    "comments = pd.read_csv(f'data/comments_{date}.csv')"
   ]
  },
  {
   "cell_type": "code",
   "execution_count": 20,
   "metadata": {},
   "outputs": [],
   "source": [
    "#add comments to dict for storage in mongo\n",
    "for comment in comments['comments']:\n",
    "    ratings_dict['comments'].append(comment)\n",
    "    "
   ]
  },
  {
   "cell_type": "code",
   "execution_count": 21,
   "metadata": {},
   "outputs": [],
   "source": [
    "#create a DF from my ratings dict. Set the keys to be oriented in the index. This fills the missing values with none\n",
    "cleaned = pd.DataFrame.from_dict(ratings_dict, orient='index')\n",
    "#transpose take the indexes and makes them columns to make a nice looking DF\n",
    "cleaned = cleaned.transpose()"
   ]
  },
  {
   "cell_type": "code",
   "execution_count": 22,
   "metadata": {},
   "outputs": [],
   "source": [
    "#some of these have up to 13 extra columns. This for loop tries to drop one at a time if it cant it moves on\n",
    "for x in range(13):\n",
    "    try:\n",
    "        cleaned.drop(f'Unnamed: {x+1}' , axis=1, inplace=True)\n",
    "    except:\n",
    "        continue"
   ]
  },
  {
   "cell_type": "code",
   "execution_count": 23,
   "metadata": {},
   "outputs": [
    {
     "data": {
      "text/html": [
       "<div>\n",
       "<style scoped>\n",
       "    .dataframe tbody tr th:only-of-type {\n",
       "        vertical-align: middle;\n",
       "    }\n",
       "\n",
       "    .dataframe tbody tr th {\n",
       "        vertical-align: top;\n",
       "    }\n",
       "\n",
       "    .dataframe thead th {\n",
       "        text-align: right;\n",
       "    }\n",
       "</style>\n",
       "<table border=\"1\" class=\"dataframe\">\n",
       "  <thead>\n",
       "    <tr style=\"text-align: right;\">\n",
       "      <th></th>\n",
       "      <th>date</th>\n",
       "      <th>service</th>\n",
       "      <th>food_quality</th>\n",
       "      <th>environment</th>\n",
       "      <th>experience</th>\n",
       "      <th>menu_options</th>\n",
       "      <th>reccomend</th>\n",
       "      <th>price_point</th>\n",
       "      <th>comments</th>\n",
       "    </tr>\n",
       "  </thead>\n",
       "  <tbody>\n",
       "    <tr>\n",
       "      <th>0</th>\n",
       "      <td>06_20_2021</td>\n",
       "      <td>5</td>\n",
       "      <td>5</td>\n",
       "      <td>5</td>\n",
       "      <td>5</td>\n",
       "      <td>5</td>\n",
       "      <td>y</td>\n",
       "      <td>Ticket Matched Expected Price</td>\n",
       "      <td>Rose is awesome!</td>\n",
       "    </tr>\n",
       "    <tr>\n",
       "      <th>1</th>\n",
       "      <td>06_20_2021</td>\n",
       "      <td>5</td>\n",
       "      <td>5</td>\n",
       "      <td>5</td>\n",
       "      <td>5</td>\n",
       "      <td>5</td>\n",
       "      <td>y</td>\n",
       "      <td>Price was not marked on ticket</td>\n",
       "      <td>Kids meal options? Brunch</td>\n",
       "    </tr>\n",
       "    <tr>\n",
       "      <th>2</th>\n",
       "      <td>06_20_2021</td>\n",
       "      <td>5</td>\n",
       "      <td>4</td>\n",
       "      <td>5</td>\n",
       "      <td>4</td>\n",
       "      <td>3</td>\n",
       "      <td>y</td>\n",
       "      <td>Price was not marked on ticket</td>\n",
       "      <td>Waitress did great. Lack of preferred food ite...</td>\n",
       "    </tr>\n",
       "    <tr>\n",
       "      <th>3</th>\n",
       "      <td>06_20_2021</td>\n",
       "      <td>5</td>\n",
       "      <td>2</td>\n",
       "      <td>4</td>\n",
       "      <td>3</td>\n",
       "      <td>5</td>\n",
       "      <td>None</td>\n",
       "      <td>Ticket Matched Expected Price</td>\n",
       "      <td>Food was bland - eggs</td>\n",
       "    </tr>\n",
       "    <tr>\n",
       "      <th>4</th>\n",
       "      <td>06_20_2021</td>\n",
       "      <td>5</td>\n",
       "      <td>5</td>\n",
       "      <td>5</td>\n",
       "      <td>5</td>\n",
       "      <td>None</td>\n",
       "      <td>None</td>\n",
       "      <td>Price was not marked on ticket</td>\n",
       "      <td>Lisa is the best bartender we've ever had!</td>\n",
       "    </tr>\n",
       "  </tbody>\n",
       "</table>\n",
       "</div>"
      ],
      "text/plain": [
       "         date service food_quality environment experience menu_options  \\\n",
       "0  06_20_2021       5            5           5          5            5   \n",
       "1  06_20_2021       5            5           5          5            5   \n",
       "2  06_20_2021       5            4           5          4            3   \n",
       "3  06_20_2021       5            2           4          3            5   \n",
       "4  06_20_2021       5            5           5          5         None   \n",
       "\n",
       "  reccomend                     price_point  \\\n",
       "0         y   Ticket Matched Expected Price   \n",
       "1         y  Price was not marked on ticket   \n",
       "2         y  Price was not marked on ticket   \n",
       "3      None   Ticket Matched Expected Price   \n",
       "4      None  Price was not marked on ticket   \n",
       "\n",
       "                                            comments  \n",
       "0                                   Rose is awesome!  \n",
       "1                          Kids meal options? Brunch  \n",
       "2  Waitress did great. Lack of preferred food ite...  \n",
       "3                              Food was bland - eggs  \n",
       "4         Lisa is the best bartender we've ever had!  "
      ]
     },
     "execution_count": 23,
     "metadata": {},
     "output_type": "execute_result"
    }
   ],
   "source": [
    "# save my new DF to a csv for redundency\n",
    "cleaned.to_csv(f'cleaned/fp_{date}.csv')\n",
    "cleaned"
   ]
  },
  {
   "cell_type": "code",
   "execution_count": 24,
   "metadata": {},
   "outputs": [],
   "source": [
    "#the none valuse arent relevant for averages so I dropped them\n",
    "dropped = cleaned.dropna()"
   ]
  },
  {
   "cell_type": "code",
   "execution_count": 25,
   "metadata": {},
   "outputs": [],
   "source": [
    "#My calculations\n",
    "service_mean = dropped['service'].astype(np.int).mean()\n",
    "food_mean = dropped['food_quality'].astype(np.int).mean()\n",
    "environment_mean = dropped['environment'].astype(np.int).mean()\n",
    "experience_mean = dropped['experience'].astype(np.int).mean()\n",
    "menu_mean = dropped['menu_options'].astype(np.int).mean()\n"
   ]
  },
  {
   "cell_type": "code",
   "execution_count": 26,
   "metadata": {},
   "outputs": [],
   "source": [
    "rec_yes= 0\n",
    "rec_no = 0\n",
    "price_low = 0\n",
    "price_match = 0\n",
    "price_high = 0\n",
    "no_price = 0\n",
    "for rec,price in zip(dropped['reccomend'],dropped['price_point']):\n",
    "    if rec == 'y':\n",
    "        rec_yes += 1\n",
    "    if price == 'Ticket price was lower than expected':\n",
    "        price_low +=1\n",
    "    if price == 'Ticket Matched Expected Price':\n",
    "        price_match +=1\n",
    "    if price == 'Ticket price was more than expected':\n",
    "        price_high +=1\n",
    "    else:\n",
    "        rec_no +=1\n",
    "        no_price=+1"
   ]
  },
  {
   "cell_type": "code",
   "execution_count": 27,
   "metadata": {},
   "outputs": [
    {
     "data": {
      "text/html": [
       "<div>\n",
       "<style scoped>\n",
       "    .dataframe tbody tr th:only-of-type {\n",
       "        vertical-align: middle;\n",
       "    }\n",
       "\n",
       "    .dataframe tbody tr th {\n",
       "        vertical-align: top;\n",
       "    }\n",
       "\n",
       "    .dataframe thead th {\n",
       "        text-align: right;\n",
       "    }\n",
       "</style>\n",
       "<table border=\"1\" class=\"dataframe\">\n",
       "  <thead>\n",
       "    <tr style=\"text-align: right;\">\n",
       "      <th></th>\n",
       "      <th>dates</th>\n",
       "      <th>average_service</th>\n",
       "      <th>average_food</th>\n",
       "      <th>average_environment</th>\n",
       "      <th>average_experience</th>\n",
       "      <th>menu_options</th>\n",
       "      <th>yes_reccomnd_count</th>\n",
       "      <th>wouldn't_reccomend</th>\n",
       "      <th>price_expected_count</th>\n",
       "      <th>price_higher_count</th>\n",
       "      <th>price_low_count</th>\n",
       "      <th>no_price</th>\n",
       "    </tr>\n",
       "  </thead>\n",
       "  <tbody>\n",
       "    <tr>\n",
       "      <th>0</th>\n",
       "      <td>06_20_2021</td>\n",
       "      <td>5.0</td>\n",
       "      <td>4.666667</td>\n",
       "      <td>5.0</td>\n",
       "      <td>4.666667</td>\n",
       "      <td>4.333333</td>\n",
       "      <td>3</td>\n",
       "      <td>3</td>\n",
       "      <td>1</td>\n",
       "      <td>0</td>\n",
       "      <td>0</td>\n",
       "      <td>1</td>\n",
       "    </tr>\n",
       "  </tbody>\n",
       "</table>\n",
       "</div>"
      ],
      "text/plain": [
       "        dates  average_service  average_food  average_environment  \\\n",
       "0  06_20_2021              5.0      4.666667                  5.0   \n",
       "\n",
       "   average_experience  menu_options  yes_reccomnd_count  wouldn't_reccomend  \\\n",
       "0            4.666667      4.333333                   3                   3   \n",
       "\n",
       "   price_expected_count  price_higher_count  price_low_count  no_price  \n",
       "0                     1                   0                0         1  "
      ]
     },
     "execution_count": 27,
     "metadata": {},
     "output_type": "execute_result"
    }
   ],
   "source": [
    "#store my calcs into dict for database \n",
    "av_dict = {'dates':date, 'average_service':service_mean, 'average_food':food_mean, 'average_environment':environment_mean,\n",
    "          'average_experience':experience_mean, 'menu_options':menu_mean, 'yes_reccomnd_count':rec_yes,\n",
    "          \"wouldn't_reccomend\":rec_no, 'price_expected_count': price_match, 'price_higher_count':price_high, \n",
    "           'price_low_count': price_low, 'no_price': no_price}\n",
    "av_df =pd.DataFrame([av_dict])\n",
    "av_df"
   ]
  },
  {
   "cell_type": "code",
   "execution_count": 28,
   "metadata": {},
   "outputs": [
    {
     "data": {
      "text/plain": [
       "<pymongo.results.InsertOneResult at 0x25a12be1740>"
      ]
     },
     "execution_count": 28,
     "metadata": {},
     "output_type": "execute_result"
    }
   ],
   "source": [
    "#store ratings and comments into reviews document\n",
    "collection.insert_one(ratings_dict)"
   ]
  },
  {
   "cell_type": "code",
   "execution_count": 29,
   "metadata": {},
   "outputs": [
    {
     "data": {
      "text/plain": [
       "<pymongo.results.InsertOneResult at 0x25a13f0d240>"
      ]
     },
     "execution_count": 29,
     "metadata": {},
     "output_type": "execute_result"
    }
   ],
   "source": [
    "#store daily averages into averages document\n",
    "collection2.insert_one(av_dict)"
   ]
  },
  {
   "cell_type": "code",
   "execution_count": null,
   "metadata": {},
   "outputs": [],
   "source": []
  }
 ],
 "metadata": {
  "kernelspec": {
   "display_name": "Python 3",
   "language": "python",
   "name": "python3"
  },
  "language_info": {
   "codemirror_mode": {
    "name": "ipython",
    "version": 3
   },
   "file_extension": ".py",
   "mimetype": "text/x-python",
   "name": "python",
   "nbconvert_exporter": "python",
   "pygments_lexer": "ipython3",
   "version": "3.8.5"
  }
 },
 "nbformat": 4,
 "nbformat_minor": 4
}
