{
 "cells": [
  {
   "cell_type": "code",
   "execution_count": 32,
   "metadata": {},
   "outputs": [],
   "source": [
    "import pandas as pd\n",
    "import numpy as np\n",
    "from datetime import date"
   ]
  },
  {
   "cell_type": "code",
   "execution_count": 8,
   "metadata": {},
   "outputs": [],
   "source": [
    "columns = ['rating','service', 'food_quality', 'environment', 'experience', 'menu_options', 'blank', 'blank2', \n",
    "           'yes_reccomend', 'no_reccomend', 'ticket_IS_expected', 'no_ticket_lower',\n",
    "          'no_ticket_higher', 'priceless']\n",
    "data = pd.read_csv('FP_06_02_2021_converted.csv', skiprows=1, names = columns)"
   ]
  },
  {
   "cell_type": "code",
   "execution_count": 9,
   "metadata": {},
   "outputs": [],
   "source": [
    "data.fillna(0,inplace=True)"
   ]
  },
  {
   "cell_type": "code",
   "execution_count": 10,
   "metadata": {},
   "outputs": [],
   "source": [
    "data=data[data['rating']!=0]"
   ]
  },
  {
   "cell_type": "code",
   "execution_count": 11,
   "metadata": {},
   "outputs": [],
   "source": [
    "df = data.drop(['blank','blank2'], axis=1)"
   ]
  },
  {
   "cell_type": "code",
   "execution_count": 12,
   "metadata": {},
   "outputs": [],
   "source": [
    "columns = ['rating','service', 'food_quality', 'environment', 'experience', 'menu_options',\n",
    "           'yes_reccomend', 'no_reccomend', 'ticket_IS_expected', 'no_ticket_lower',\n",
    "          'no_ticket_higher', 'priceless']\n",
    "df_new=df[columns].astype(int)"
   ]
  },
  {
   "cell_type": "code",
   "execution_count": 13,
   "metadata": {},
   "outputs": [],
   "source": [
    "service=[]\n",
    "for i , j in df_new.iterrows():\n",
    "    if j['rating'] == 5 and j['service'] == 1:\n",
    "        service.append(5)\n",
    "    elif j['rating']==4 and j['service']== 1:\n",
    "        service.append(4)\n",
    "    elif j['rating'] == 3 and j['service'] == 1:\n",
    "        service.append(3)\n",
    "    elif j['rating'] == 2 and j['service'] == 1:\n",
    "        service.append(2)\n",
    "    elif j['rating'] == 1 and j['service'] == 1:\n",
    "        service.append(1)"
   ]
  },
  {
   "cell_type": "code",
   "execution_count": 14,
   "metadata": {},
   "outputs": [],
   "source": [
    "food_quality=[]\n",
    "for i , j in df_new.iterrows():\n",
    "    if j['rating'] == 5 and j['food_quality'] == 1:\n",
    "        food_quality.append(5)\n",
    "    elif j['rating'] == 4 and j['food_quality'] == 1:\n",
    "        food_quality.append(4)\n",
    "    elif j['rating'] == 3 and j['food_quality'] == 1:\n",
    "        food_quality.append(3)\n",
    "    elif j['rating'] == 2 and j['food_quality'] == 1:\n",
    "        food_quality.append(2)\n",
    "    elif j['rating'] == 1 and j['food_quality'] == 1:\n",
    "        food_quality.append(1)"
   ]
  },
  {
   "cell_type": "code",
   "execution_count": 15,
   "metadata": {},
   "outputs": [],
   "source": [
    "environment=[]\n",
    "for i , j in df_new.iterrows():\n",
    "    if j['rating'] == 5 and j['environment'] == 1:\n",
    "        environment.append(5)\n",
    "    elif j['rating'] == 4 and j['environment'] == 1:\n",
    "        environment.append(4)\n",
    "    elif j['rating'] == 3 and j['environment'] == 1:\n",
    "        environment.append(3)\n",
    "    elif j['rating'] == 2 and j['environment'] == 1:\n",
    "        environment.append(2)\n",
    "    elif j['rating'] == 1 and j['environment'] == 1:\n",
    "        environment.append(1)"
   ]
  },
  {
   "cell_type": "code",
   "execution_count": 16,
   "metadata": {},
   "outputs": [],
   "source": [
    "experience=[]\n",
    "for i , j in df_new.iterrows():\n",
    "    if j['rating'] == 5 and j['experience'] == 1:\n",
    "        experience.append(5)\n",
    "    elif j['rating'] == 4 and j['experience'] == 1:\n",
    "        experience.append(4)\n",
    "    elif j['rating'] == 3 and j['experience'] == 1:\n",
    "        experience.append(3)\n",
    "    elif j['rating'] == 2 and j['experience'] == 1:\n",
    "        experience.append(2)\n",
    "    elif j['rating'] == 1 and j['experience'] == 1:\n",
    "        experience.append(1)"
   ]
  },
  {
   "cell_type": "code",
   "execution_count": 17,
   "metadata": {},
   "outputs": [],
   "source": [
    "menu_options=[]\n",
    "for i , j in df_new.iterrows():\n",
    "    if j['rating'] == 5 and j['menu_options'] == 1:\n",
    "        menu_options.append(5)\n",
    "    elif j['rating'] == 4 and j['menu_options'] == 1:\n",
    "        menu_options.append(4)\n",
    "    elif j['rating'] == 3 and j['menu_options'] == 1:\n",
    "        menu_options.append(3)\n",
    "    elif j['rating'] == 2 and j['menu_options'] == 1:\n",
    "        menu_options.append(2)\n",
    "    elif j['rating'] == 1 and j['menu_options'] == 1:\n",
    "        menu_options.append(1)"
   ]
  },
  {
   "cell_type": "code",
   "execution_count": 18,
   "metadata": {},
   "outputs": [],
   "source": [
    "reccomend=[]\n",
    "for i , j in df_new.iterrows():\n",
    "    if j['rating'] == 5 and j['yes_reccomend'] == 1:\n",
    "        reccomend.append('y')\n",
    "    elif j['rating'] == 5 and j['no_reccomend'] == 1:\n",
    "        reccomend.append('n')"
   ]
  },
  {
   "cell_type": "code",
   "execution_count": 19,
   "metadata": {},
   "outputs": [],
   "source": [
    "price_point = []\n",
    "for i , j in df_new.iterrows():\n",
    "    if j['rating'] == 5 and j['ticket_IS_expected'] == 1:\n",
    "        price_point.append('Ticket Matched Expected Price')\n",
    "    elif j['rating'] == 5 and j['no_ticket_lower'] == 1:\n",
    "        price_point.append('Ticket price was lower than expected')\n",
    "    elif j['rating'] == 5 and j['no_ticket_higher'] == 1:\n",
    "        price_point.append('Ticket price was more than expected')\n",
    "    elif j['rating'] == 5 and j['priceless'] == 1:\n",
    "        price_point.append('Price was not marked on ticket')"
   ]
  },
  {
   "cell_type": "code",
   "execution_count": 20,
   "metadata": {},
   "outputs": [],
   "source": [
    "a ={'service':service,'food_quality':food_quality,'environment':environment,\n",
    "                       'experience':experience,'menu_options':menu_options,\n",
    "                       'reccomendation_to_fam_and_friends':reccomend,'price':price_point}\n",
    "cleaned = pd.DataFrame.from_dict(a, orient='index')\n",
    "cleaned = cleaned.transpose()"
   ]
  },
  {
   "cell_type": "code",
   "execution_count": 23,
   "metadata": {},
   "outputs": [],
   "source": [
    "cleaned.to_csv('cleaned/fp_current.csv')"
   ]
  },
  {
   "cell_type": "code",
   "execution_count": 25,
   "metadata": {},
   "outputs": [],
   "source": [
    "comments = pd.read_csv('comments_Restaurant-workbook.csv')"
   ]
  },
  {
   "cell_type": "code",
   "execution_count": 26,
   "metadata": {},
   "outputs": [
    {
     "data": {
      "text/html": [
       "<div>\n",
       "<style scoped>\n",
       "    .dataframe tbody tr th:only-of-type {\n",
       "        vertical-align: middle;\n",
       "    }\n",
       "\n",
       "    .dataframe tbody tr th {\n",
       "        vertical-align: top;\n",
       "    }\n",
       "\n",
       "    .dataframe thead th {\n",
       "        text-align: right;\n",
       "    }\n",
       "</style>\n",
       "<table border=\"1\" class=\"dataframe\">\n",
       "  <thead>\n",
       "    <tr style=\"text-align: right;\">\n",
       "      <th></th>\n",
       "      <th>service</th>\n",
       "      <th>food_quality</th>\n",
       "      <th>environment</th>\n",
       "      <th>experience</th>\n",
       "      <th>menu_options</th>\n",
       "      <th>reccomendation_to_fam_and_friends</th>\n",
       "      <th>price</th>\n",
       "      <th>Brunch menu a little limited. Beautiful restaurant 5+. Cody was our waitress, friendly, courteous</th>\n",
       "      <th>Unnamed: 1</th>\n",
       "      <th>Unnamed: 2</th>\n",
       "      <th>Unnamed: 3</th>\n",
       "      <th>Unnamed: 4</th>\n",
       "    </tr>\n",
       "  </thead>\n",
       "  <tbody>\n",
       "    <tr>\n",
       "      <th>0</th>\n",
       "      <td>4</td>\n",
       "      <td>4</td>\n",
       "      <td>4</td>\n",
       "      <td>4</td>\n",
       "      <td>4</td>\n",
       "      <td>y</td>\n",
       "      <td>Ticket Matched Expected Price</td>\n",
       "      <td>Nice Place</td>\n",
       "      <td>NaN</td>\n",
       "      <td>NaN</td>\n",
       "      <td>NaN</td>\n",
       "      <td>NaN</td>\n",
       "    </tr>\n",
       "    <tr>\n",
       "      <th>1</th>\n",
       "      <td>5</td>\n",
       "      <td>4</td>\n",
       "      <td>5</td>\n",
       "      <td>4</td>\n",
       "      <td>4</td>\n",
       "      <td>y</td>\n",
       "      <td>Ticket Matched Expected Price</td>\n",
       "      <td>Great Job!</td>\n",
       "      <td>NaN</td>\n",
       "      <td>NaN</td>\n",
       "      <td>NaN</td>\n",
       "      <td>NaN</td>\n",
       "    </tr>\n",
       "    <tr>\n",
       "      <th>2</th>\n",
       "      <td>4</td>\n",
       "      <td>3</td>\n",
       "      <td>3</td>\n",
       "      <td>3</td>\n",
       "      <td>4</td>\n",
       "      <td>y</td>\n",
       "      <td>Price was not marked on ticket</td>\n",
       "      <td>Great experience - glad you're here</td>\n",
       "      <td>NaN</td>\n",
       "      <td>NaN</td>\n",
       "      <td>NaN</td>\n",
       "      <td>NaN</td>\n",
       "    </tr>\n",
       "    <tr>\n",
       "      <th>3</th>\n",
       "      <td>5</td>\n",
       "      <td>5</td>\n",
       "      <td>5</td>\n",
       "      <td>5</td>\n",
       "      <td>5</td>\n",
       "      <td>y</td>\n",
       "      <td>Ticket Matched Expected Price</td>\n",
       "      <td>Full menu after lunch rush and dessert all day...</td>\n",
       "      <td>NaN</td>\n",
       "      <td>NaN</td>\n",
       "      <td>NaN</td>\n",
       "      <td>NaN</td>\n",
       "    </tr>\n",
       "    <tr>\n",
       "      <th>4</th>\n",
       "      <td>5</td>\n",
       "      <td>5</td>\n",
       "      <td>5</td>\n",
       "      <td>5</td>\n",
       "      <td>5</td>\n",
       "      <td>y</td>\n",
       "      <td>Ticket Matched Expected Price</td>\n",
       "      <td>Thanks for all the vegetarian food!</td>\n",
       "      <td>NaN</td>\n",
       "      <td>NaN</td>\n",
       "      <td>NaN</td>\n",
       "      <td>NaN</td>\n",
       "    </tr>\n",
       "    <tr>\n",
       "      <th>5</th>\n",
       "      <td>5</td>\n",
       "      <td>5</td>\n",
       "      <td>5</td>\n",
       "      <td>5</td>\n",
       "      <td>5</td>\n",
       "      <td>y</td>\n",
       "      <td>Ticket Matched Expected Price</td>\n",
       "      <td>An espresso bar would be nice.</td>\n",
       "      <td>NaN</td>\n",
       "      <td>NaN</td>\n",
       "      <td>NaN</td>\n",
       "      <td>NaN</td>\n",
       "    </tr>\n",
       "    <tr>\n",
       "      <th>6</th>\n",
       "      <td>5</td>\n",
       "      <td>5</td>\n",
       "      <td>5</td>\n",
       "      <td>5</td>\n",
       "      <td>5</td>\n",
       "      <td>y</td>\n",
       "      <td>Price was not marked on ticket</td>\n",
       "      <td>I will be back ! :)</td>\n",
       "      <td>NaN</td>\n",
       "      <td>NaN</td>\n",
       "      <td>NaN</td>\n",
       "      <td>NaN</td>\n",
       "    </tr>\n",
       "    <tr>\n",
       "      <th>7</th>\n",
       "      <td>5</td>\n",
       "      <td>5</td>\n",
       "      <td>5</td>\n",
       "      <td>5</td>\n",
       "      <td>5</td>\n",
       "      <td>y</td>\n",
       "      <td>Ticket Matched Expected Price</td>\n",
       "      <td>5 being best experience possible. Overall grea...</td>\n",
       "      <td>NaN</td>\n",
       "      <td>NaN</td>\n",
       "      <td>NaN</td>\n",
       "      <td>NaN</td>\n",
       "    </tr>\n",
       "  </tbody>\n",
       "</table>\n",
       "</div>"
      ],
      "text/plain": [
       "  service food_quality environment experience menu_options  \\\n",
       "0       4            4           4          4            4   \n",
       "1       5            4           5          4            4   \n",
       "2       4            3           3          3            4   \n",
       "3       5            5           5          5            5   \n",
       "4       5            5           5          5            5   \n",
       "5       5            5           5          5            5   \n",
       "6       5            5           5          5            5   \n",
       "7       5            5           5          5            5   \n",
       "\n",
       "  reccomendation_to_fam_and_friends                           price  \\\n",
       "0                                 y   Ticket Matched Expected Price   \n",
       "1                                 y   Ticket Matched Expected Price   \n",
       "2                                 y  Price was not marked on ticket   \n",
       "3                                 y   Ticket Matched Expected Price   \n",
       "4                                 y   Ticket Matched Expected Price   \n",
       "5                                 y   Ticket Matched Expected Price   \n",
       "6                                 y  Price was not marked on ticket   \n",
       "7                                 y   Ticket Matched Expected Price   \n",
       "\n",
       "  Brunch menu a little limited. Beautiful restaurant 5+. Cody was our waitress, friendly, courteous  \\\n",
       "0                                         Nice Place                                                  \n",
       "1                                         Great Job!                                                  \n",
       "2                Great experience - glad you're here                                                  \n",
       "3  Full menu after lunch rush and dessert all day...                                                  \n",
       "4                Thanks for all the vegetarian food!                                                  \n",
       "5                     An espresso bar would be nice.                                                  \n",
       "6                                I will be back ! :)                                                  \n",
       "7  5 being best experience possible. Overall grea...                                                  \n",
       "\n",
       "   Unnamed: 1  Unnamed: 2  Unnamed: 3  Unnamed: 4  \n",
       "0         NaN         NaN         NaN         NaN  \n",
       "1         NaN         NaN         NaN         NaN  \n",
       "2         NaN         NaN         NaN         NaN  \n",
       "3         NaN         NaN         NaN         NaN  \n",
       "4         NaN         NaN         NaN         NaN  \n",
       "5         NaN         NaN         NaN         NaN  \n",
       "6         NaN         NaN         NaN         NaN  \n",
       "7         NaN         NaN         NaN         NaN  "
      ]
     },
     "execution_count": 26,
     "metadata": {},
     "output_type": "execute_result"
    }
   ],
   "source": [
    "cleaned_w_comments = cleaned.merge(comments, left_index=True, right_index=True)\n",
    "cleaned_w_comments"
   ]
  },
  {
   "cell_type": "code",
   "execution_count": 27,
   "metadata": {},
   "outputs": [],
   "source": [
    "cleaned_w_comments.drop('Unnamed: 1', axis=1, inplace = True)"
   ]
  },
  {
   "cell_type": "code",
   "execution_count": 33,
   "metadata": {},
   "outputs": [],
   "source": [
    "cleaned_w_comments.to_csv(f'cleaned/fp_current{date.today()}.csv')"
   ]
  },
  {
   "cell_type": "code",
   "execution_count": null,
   "metadata": {},
   "outputs": [],
   "source": []
  }
 ],
 "metadata": {
  "kernelspec": {
   "display_name": "Python 3",
   "language": "python",
   "name": "python3"
  },
  "language_info": {
   "codemirror_mode": {
    "name": "ipython",
    "version": 3
   },
   "file_extension": ".py",
   "mimetype": "text/x-python",
   "name": "python",
   "nbconvert_exporter": "python",
   "pygments_lexer": "ipython3",
   "version": "3.8.5"
  }
 },
 "nbformat": 4,
 "nbformat_minor": 4
}
